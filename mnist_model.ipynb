{
 "cells": [
  {
   "cell_type": "code",
   "execution_count": 3,
   "metadata": {},
   "outputs": [],
   "source": [
    "#import the  dependencies\n",
    "import numpy  as np\n",
    "import matplotlib.pylab as plt"
   ]
  },
  {
   "cell_type": "code",
   "execution_count": 2,
   "metadata": {},
   "outputs": [
    {
     "name": "stderr",
     "output_type": "stream",
     "text": [
      "c:\\Users\\Administrator\\AppData\\Local\\Programs\\Python\\Python311\\Lib\\site-packages\\tqdm\\auto.py:21: TqdmWarning: IProgress not found. Please update jupyter and ipywidgets. See https://ipywidgets.readthedocs.io/en/stable/user_install.html\n",
      "  from .autonotebook import tqdm as notebook_tqdm\n"
     ]
    }
   ],
   "source": [
    "#import the  dependencies\n",
    "import torchvision\n",
    "import torchvision.transforms as transforms\n",
    "\n",
    "# Define transformations to apply to the data\n",
    "transform = transforms.Compose([\n",
    "    transforms.ToTensor(),  # Convert PIL Image to PyTorch Tensor\n",
    "    transforms.Normalize((0.5,), (0.5,))  # Normalize the data\n",
    "])\n",
    "\n",
    "# Load the MNIST training dataset\n",
    "train_dataset = torchvision.datasets.MNIST(root='./data', train=True, download=True, transform=transform)\n",
    "\n",
    "# Load the MNIST test dataset\n",
    "test_dataset = torchvision.datasets.MNIST(root='./data', train=False, download=True, transform=transform)\n"
   ]
  },
  {
   "cell_type": "code",
   "execution_count": 7,
   "metadata": {},
   "outputs": [
    {
     "data": {
      "text/plain": [
       "torch.Size([60000, 28, 28])"
      ]
     },
     "execution_count": 7,
     "metadata": {},
     "output_type": "execute_result"
    }
   ],
   "source": [
    "train_dataset.data.shape"
   ]
  },
  {
   "cell_type": "code",
   "execution_count": 81,
   "metadata": {},
   "outputs": [
    {
     "name": "stdout",
     "output_type": "stream",
     "text": [
      "torch.Size([28, 28])\n"
     ]
    },
    {
     "data": {
      "image/png": "[encoded data removed]",
      "text/plain": [
       "<Figure size 640x480 with 1 Axes>"
      ]
     },
     "metadata": {},
     "output_type": "display_data"
    }
   ],
   "source": [
    "#test\n",
    "plt.imshow(train_dataset.data[50])\n",
    "print(train_dataset.data[50].shape)"
   ]
  },
  {
   "cell_type": "code",
   "execution_count": 90,
   "metadata": {},
   "outputs": [],
   "source": [
    "import torch.nn as nn\n",
    "import torch\n",
    "# creating the ai model for digits classifications\n",
    "class Mnist_model(nn.Module):\n",
    "    def __init__(self, *args, **kwargs) -> None:\n",
    "        super().__init__(*args, **kwargs)\n",
    "        self.l1 = nn.Linear(28*28,100,bias=False)\n",
    "        self.relu  = nn.ReLU()\n",
    "        self.l2 = nn.Linear(100,10,bias=False)\n",
    "    def forward(self,x):\n",
    "        x= self.relu(self.l1(x))\n",
    "        x= self.l2(x)\n",
    "        return x\n",
    "pytorch_model =  Mnist_model()\n"
   ]
  },
  {
   "cell_type": "code",
   "execution_count": 25,
   "metadata": {},
   "outputs": [
    {
     "name": "stderr",
     "output_type": "stream",
     "text": [
      "C:\\Users\\Administrator\\AppData\\Local\\Temp\\ipykernel_7488\\1698054874.py:1: UserWarning: To copy construct from a tensor, it is recommended to use sourceTensor.clone().detach() or sourceTensor.clone().detach().requires_grad_(True), rather than torch.tensor(sourceTensor).\n",
      "  pytorch_model(torch.tensor(train_dataset.data[0].reshape(1,28*28).clone().detach(),dtype= torch.float))\n"
     ]
    },
    {
     "data": {
      "text/plain": [
       "tensor([[ 0.0000,  3.7378, 22.3853,  0.0000, 11.6895,  0.0000,  0.0000,  1.9031,\n",
       "          0.0000,  0.0000]], grad_fn=<ReluBackward0>)"
      ]
     },
     "execution_count": 25,
     "metadata": {},
     "output_type": "execute_result"
    }
   ],
   "source": [
    "#testing and note that the shape of minst image is (1,28,28) 3d and you should turn it into (1,28*28) 2d\n",
    "pytorch_model(torch.tensor(train_dataset.data[0].reshape(1,28*28).clone().detach(),dtype= torch.float))\n"
   ]
  },
  {
   "cell_type": "code",
   "execution_count": 164,
   "metadata": {},
   "outputs": [
    {
     "name": "stdout",
     "output_type": "stream",
     "text": [
      "tensor(0.0251, grad_fn=<DivBackward0>)\n",
      "tensor(0.0217, grad_fn=<DivBackward0>)\n",
      "tensor(0.0227, grad_fn=<DivBackward0>)\n",
      "tensor(0.0311, grad_fn=<DivBackward0>)\n",
      "tensor(0.0375, grad_fn=<DivBackward0>)\n",
      "tensor(0.0367, grad_fn=<DivBackward0>)\n",
      "tensor(0.0284, grad_fn=<DivBackward0>)\n",
      "tensor(0.0282, grad_fn=<DivBackward0>)\n",
      "tensor(0.0237, grad_fn=<DivBackward0>)\n",
      "tensor(0.0235, grad_fn=<DivBackward0>)\n",
      "tensor(0.0349, grad_fn=<DivBackward0>)\n",
      "tensor(0.0161, grad_fn=<DivBackward0>)\n",
      "tensor(0.0245, grad_fn=<DivBackward0>)\n",
      "tensor(0.0167, grad_fn=<DivBackward0>)\n",
      "tensor(0.0249, grad_fn=<DivBackward0>)\n",
      "tensor(0.0356, grad_fn=<DivBackward0>)\n",
      "tensor(0.0236, grad_fn=<DivBackward0>)\n",
      "tensor(0.0369, grad_fn=<DivBackward0>)\n",
      "tensor(0.0336, grad_fn=<DivBackward0>)\n",
      "tensor(0.0165, grad_fn=<DivBackward0>)\n",
      "tensor(0.0128, grad_fn=<DivBackward0>)\n",
      "tensor(0.0278, grad_fn=<DivBackward0>)\n",
      "tensor(0.0211, grad_fn=<DivBackward0>)\n",
      "tensor(0.0245, grad_fn=<DivBackward0>)\n",
      "tensor(0.0267, grad_fn=<DivBackward0>)\n",
      "tensor(0.0286, grad_fn=<DivBackward0>)\n",
      "tensor(0.0263, grad_fn=<DivBackward0>)\n",
      "tensor(0.0287, grad_fn=<DivBackward0>)\n",
      "tensor(0.0238, grad_fn=<DivBackward0>)\n",
      "tensor(0.0259, grad_fn=<DivBackward0>)\n",
      "tensor(0.0212, grad_fn=<DivBackward0>)\n",
      "tensor(0.0286, grad_fn=<DivBackward0>)\n",
      "tensor(0.0210, grad_fn=<DivBackward0>)\n",
      "tensor(0.0114, grad_fn=<DivBackward0>)\n",
      "tensor(0.0352, grad_fn=<DivBackward0>)\n",
      "tensor(0.0263, grad_fn=<DivBackward0>)\n",
      "tensor(0.0267, grad_fn=<DivBackward0>)\n",
      "tensor(0.0212, grad_fn=<DivBackward0>)\n",
      "tensor(0.0315, grad_fn=<DivBackward0>)\n",
      "tensor(0.0266, grad_fn=<DivBackward0>)\n",
      "tensor(0.0166, grad_fn=<DivBackward0>)\n",
      "tensor(0.0186, grad_fn=<DivBackward0>)\n",
      "tensor(0.0238, grad_fn=<DivBackward0>)\n",
      "tensor(0.0249, grad_fn=<DivBackward0>)\n",
      "tensor(0.0228, grad_fn=<DivBackward0>)\n",
      "tensor(0.0283, grad_fn=<DivBackward0>)\n",
      "tensor(0.0229, grad_fn=<DivBackward0>)\n",
      "tensor(0.0216, grad_fn=<DivBackward0>)\n",
      "tensor(0.0147, grad_fn=<DivBackward0>)\n",
      "tensor(0.0175, grad_fn=<DivBackward0>)\n"
     ]
    }
   ],
   "source": [
    "#the training loop\n",
    "batch_size  = 200\n",
    "loss   = nn.CrossEntropyLoss()\n",
    "optimizer  = torch.optim.AdamW(pytorch_model.parameters(),lr=1e-4)\n",
    "ii=0\n",
    "total = 0\n",
    "for i  in range(500):\n",
    "    ii+=1\n",
    "    index  =  np.random.randint(0,train_dataset.data.shape[0],size=batch_size)\n",
    "    optimizer.zero_grad()\n",
    "    x= train_dataset.data[index]\n",
    "    out = pytorch_model(x.reshape(-1,28*28).float().clone().detach())\n",
    "    target =  train_dataset.targets[index]\n",
    "    lol = loss(out,target)\n",
    "    lol.backward()\n",
    "    total +=lol\n",
    "    \n",
    "    optimizer.step()\n",
    "    if ii%10==0:\n",
    "        print(total/10)\n",
    "        total=0\n",
    "        ii=0\n",
    "\n",
    "\n"
   ]
  },
  {
   "cell_type": "code",
   "execution_count": 103,
   "metadata": {},
   "outputs": [
    {
     "name": "stdout",
     "output_type": "stream",
     "text": [
      "tensor([[ -6.9275,   8.2241,  16.6399,   4.4193, -13.2384, -10.6700,   2.2561,\n",
      "         -12.7792,   0.7643, -10.5441]], grad_fn=<MmBackward0>)\n",
      "prediction tensor(2)\n",
      " label  tensor([2])\n"
     ]
    },
    {
     "data": {
      "image/png": "[encoded data removed]",
      "text/plain": [
       "<Figure size 640x480 with 1 Axes>"
      ]
     },
     "metadata": {},
     "output_type": "display_data"
    }
   ],
   "source": [
    "# this is for plating the image and compiring the label  with the model predictions\n",
    "find = np.random.randint(0,train_dataset.data.shape[0],size=1)\n",
    "result  = pytorch_model(train_dataset.data[find].float().view(-1,28*28))\n",
    "plt.imshow(train_dataset.data[find].squeeze())\n",
    "print(result)\n",
    "print(\"prediction\",result.argmax())\n",
    "print(\" label \",train_dataset.targets[find])\n"
   ]
  },
  {
   "cell_type": "code",
   "execution_count": null,
   "metadata": {},
   "outputs": [],
   "source": [
    "# note  that you can use cuda for faster training but in our case for traing the Mnist model the cpu is good"
   ]
  }
 ],
 "metadata": {
  "kernelspec": {
   "display_name": "Python 3",
   "language": "python",
   "name": "python3"
  },
  "language_info": {
   "codemirror_mode": {
    "name": "ipython",
    "version": 3
   },
   "file_extension": ".py",
   "mimetype": "text/x-python",
   "name": "python",
   "nbconvert_exporter": "python",
   "pygments_lexer": "ipython3",
   "version": "3.11.1"
  },
  "orig_nbformat": 4,
  "vscode": {
   "interpreter": {
    "hash": "ff4b1fca65a764b45acb559e482afe389d289dd599b9f8c5fd12ff5c2ea46a65"
   }
  }
 },
 "nbformat": 4,
 "nbformat_minor": 2
}
